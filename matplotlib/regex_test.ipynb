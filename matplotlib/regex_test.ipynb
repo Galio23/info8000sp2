{
 "cells": [
  {
   "cell_type": "code",
   "execution_count": 8,
   "metadata": {},
   "outputs": [],
   "source": [
    "import pandas as pd\n",
    "import re"
   ]
  },
  {
   "cell_type": "code",
   "execution_count": 7,
   "metadata": {},
   "outputs": [
    {
     "data": {
      "text/plain": [
       "0      [Kyle, Johnsen]\n",
       "1     [Brooks, Bowers]\n",
       "2    [Andrew, Rukangu]\n",
       "Name: name, dtype: object"
      ]
     },
     "execution_count": 7,
     "metadata": {},
     "output_type": "execute_result"
    }
   ],
   "source": [
    "df = pd.DataFrame({\"name\":[\"Kyle Johnsen\",\"Brooks Bowers\",\"Andrew Rukangu\"]})\n",
    "df.name.str.extract(r\"^([A-Za-z]+) +([A-Xa-x]+)$\")\n",
    "valid_names = df.name.str.match(r\"^(A-Za-z]+) +([A-Za-z]+)$\")\n",
    "df[valid_names]\n",
    "df.name.str.split(expand=True)"
   ]
  }
 ],
 "metadata": {
  "interpreter": {
   "hash": "604b6349a116e4764ec4401cc88a26d2ca55527821661abcee742d3fef4adeb9"
  },
  "kernelspec": {
   "display_name": "Python 3.9.5 ('base')",
   "language": "python",
   "name": "python3"
  },
  "language_info": {
   "codemirror_mode": {
    "name": "ipython",
    "version": 3
   },
   "file_extension": ".py",
   "mimetype": "text/x-python",
   "name": "python",
   "nbconvert_exporter": "python",
   "pygments_lexer": "ipython3",
   "version": "3.9.5"
  },
  "orig_nbformat": 4
 },
 "nbformat": 4,
 "nbformat_minor": 2
}
