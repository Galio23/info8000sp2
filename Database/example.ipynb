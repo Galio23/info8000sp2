{
 "cells": [
  {
   "cell_type": "code",
   "execution_count": 9,
   "metadata": {},
   "outputs": [],
   "source": [
    "import pandas as pd\n",
    "import sqlite3"
   ]
  },
  {
   "cell_type": "code",
   "execution_count": 8,
   "metadata": {},
   "outputs": [],
   "source": [
    "def dbConnection():\n",
    "    return sqlite3.connect(\"example.db\")"
   ]
  },
  {
   "cell_type": "code",
   "execution_count": 4,
   "metadata": {},
   "outputs": [
    {
     "name": "stdout",
     "output_type": "stream",
     "text": [
      "[(1, 'Kyle', 'Johnsen'), (2, 'Giannis', 'Gallios')]\n"
     ]
    }
   ],
   "source": [
    "# Example of retrieving data from a sqlite database\n",
    "with sqlite3.connect(\"example.db\") as con:\n",
    "    cur = con.execute(\"SELECT id, first_name, last_name FROM person\")\n",
    "    print(cur.fetchall())"
   ]
  },
  {
   "cell_type": "code",
   "execution_count": 13,
   "metadata": {},
   "outputs": [
    {
     "data": {
      "text/html": [
       "<div>\n",
       "<style scoped>\n",
       "    .dataframe tbody tr th:only-of-type {\n",
       "        vertical-align: middle;\n",
       "    }\n",
       "\n",
       "    .dataframe tbody tr th {\n",
       "        vertical-align: top;\n",
       "    }\n",
       "\n",
       "    .dataframe thead th {\n",
       "        text-align: right;\n",
       "    }\n",
       "</style>\n",
       "<table border=\"1\" class=\"dataframe\">\n",
       "  <thead>\n",
       "    <tr style=\"text-align: right;\">\n",
       "      <th></th>\n",
       "      <th>id</th>\n",
       "      <th>first_name</th>\n",
       "      <th>last_name</th>\n",
       "    </tr>\n",
       "  </thead>\n",
       "  <tbody>\n",
       "    <tr>\n",
       "      <th>0</th>\n",
       "      <td>1</td>\n",
       "      <td>Kyle</td>\n",
       "      <td>Johnsen</td>\n",
       "    </tr>\n",
       "    <tr>\n",
       "      <th>1</th>\n",
       "      <td>2</td>\n",
       "      <td>Giannis</td>\n",
       "      <td>Gallios</td>\n",
       "    </tr>\n",
       "  </tbody>\n",
       "</table>\n",
       "</div>"
      ],
      "text/plain": [
       "   id first_name last_name\n",
       "0   1       Kyle   Johnsen\n",
       "1   2    Giannis   Gallios"
      ]
     },
     "metadata": {},
     "output_type": "display_data"
    }
   ],
   "source": [
    "# Example using pandas for SQL\n",
    "with dbConnection() as con:\n",
    "    display(pd.read_sql(\"SELECT * FROM person\",con))"
   ]
  },
  {
   "cell_type": "code",
   "execution_count": 16,
   "metadata": {},
   "outputs": [
    {
     "data": {
      "text/html": [
       "<div>\n",
       "<style scoped>\n",
       "    .dataframe tbody tr th:only-of-type {\n",
       "        vertical-align: middle;\n",
       "    }\n",
       "\n",
       "    .dataframe tbody tr th {\n",
       "        vertical-align: top;\n",
       "    }\n",
       "\n",
       "    .dataframe thead th {\n",
       "        text-align: right;\n",
       "    }\n",
       "</style>\n",
       "<table border=\"1\" class=\"dataframe\">\n",
       "  <thead>\n",
       "    <tr style=\"text-align: right;\">\n",
       "      <th></th>\n",
       "      <th>id</th>\n",
       "      <th>first_name</th>\n",
       "      <th>last_name</th>\n",
       "    </tr>\n",
       "  </thead>\n",
       "  <tbody>\n",
       "    <tr>\n",
       "      <th>0</th>\n",
       "      <td>1</td>\n",
       "      <td>Kyle</td>\n",
       "      <td>Johnsen</td>\n",
       "    </tr>\n",
       "    <tr>\n",
       "      <th>1</th>\n",
       "      <td>2</td>\n",
       "      <td>Giannis</td>\n",
       "      <td>Gallios</td>\n",
       "    </tr>\n",
       "  </tbody>\n",
       "</table>\n",
       "</div>"
      ],
      "text/plain": [
       "   id first_name last_name\n",
       "0   1       Kyle   Johnsen\n",
       "1   2    Giannis   Gallios"
      ]
     },
     "metadata": {},
     "output_type": "display_data"
    }
   ],
   "source": [
    "# a more elaborate select example with filter\n",
    "with dbConnection() as con:\n",
    "    df = pd.read_sql(\"SELECT * FROM person WHERE first_name='Kyle' or id>1\",con)\n",
    "    display(df)"
   ]
  },
  {
   "cell_type": "code",
   "execution_count": 42,
   "metadata": {},
   "outputs": [
    {
     "ename": "IntegrityError",
     "evalue": "NOT NULL constraint failed: person.id",
     "output_type": "error",
     "traceback": [
      "\u001b[1;31m---------------------------------------------------------------------------\u001b[0m",
      "\u001b[1;31mIntegrityError\u001b[0m                            Traceback (most recent call last)",
      "\u001b[1;32mc:\\Users\\ig29150\\OneDrive - University of Georgia\\Documents\\GitHub\\info8000sp2\\Database\\example.ipynb Cell 6'\u001b[0m in \u001b[0;36m<cell line: 1>\u001b[1;34m()\u001b[0m\n\u001b[0;32m      <a href='vscode-notebook-cell:/c%3A/Users/ig29150/OneDrive%20-%20University%20of%20Georgia/Documents/GitHub/info8000sp2/Database/example.ipynb#ch0000005?line=0'>1</a>\u001b[0m \u001b[39mwith\u001b[39;00m dbConnection() \u001b[39mas\u001b[39;00m con:\n\u001b[1;32m----> <a href='vscode-notebook-cell:/c%3A/Users/ig29150/OneDrive%20-%20University%20of%20Georgia/Documents/GitHub/info8000sp2/Database/example.ipynb#ch0000005?line=1'>2</a>\u001b[0m     cur \u001b[39m=\u001b[39m con\u001b[39m.\u001b[39;49mexecute(\u001b[39m\"\u001b[39;49m\u001b[39mINSERT INTO  person (first_name,last_name) VALUES (?,?)\u001b[39;49m\u001b[39m\"\u001b[39;49m, (\u001b[39m'\u001b[39;49m\u001b[39mbrook\u001b[39;49m\u001b[39m'\u001b[39;49m,\u001b[39m'\u001b[39;49m\u001b[39mBower\u001b[39;49m\u001b[39m'\u001b[39;49m))\n\u001b[0;32m      <a href='vscode-notebook-cell:/c%3A/Users/ig29150/OneDrive%20-%20University%20of%20Georgia/Documents/GitHub/info8000sp2/Database/example.ipynb#ch0000005?line=2'>3</a>\u001b[0m     display(cur)\n",
      "\u001b[1;31mIntegrityError\u001b[0m: NOT NULL constraint failed: person.id"
     ]
    }
   ],
   "source": [
    "with dbConnection() as con:\n",
    "    cur = con.execute(\"INSERT INTO  person (first_name,last_name) VALUES (?,?)\", ('brook','Bower'))\n",
    "    display(cur)"
   ]
  }
 ],
 "metadata": {
  "interpreter": {
   "hash": "604b6349a116e4764ec4401cc88a26d2ca55527821661abcee742d3fef4adeb9"
  },
  "kernelspec": {
   "display_name": "Python 3.8.13 ('base')",
   "language": "python",
   "name": "python3"
  },
  "language_info": {
   "codemirror_mode": {
    "name": "ipython",
    "version": 3
   },
   "file_extension": ".py",
   "mimetype": "text/x-python",
   "name": "python",
   "nbconvert_exporter": "python",
   "pygments_lexer": "ipython3",
   "version": "3.8.13"
  },
  "orig_nbformat": 4
 },
 "nbformat": 4,
 "nbformat_minor": 2
}
